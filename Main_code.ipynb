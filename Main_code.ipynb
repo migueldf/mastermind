{
 "cells": [
  {
   "cell_type": "code",
   "execution_count": 4,
   "id": "99461129",
   "metadata": {},
   "outputs": [],
   "source": [
    "import random\n",
    "\n",
    "# Lista de colores disponible\n",
    "colors = ['Green', 'Red', 'Blue', 'White', 'Black', 'Pink']\n",
    "colors_code = {1:'Green', 2:'Red', 3:'Blue', 4:'White', 5:'Black', 6:'Pink'}\n"
   ]
  },
  {
   "cell_type": "markdown",
   "id": "133aa885",
   "metadata": {},
   "source": [
    "## Funciones "
   ]
  },
  {
   "cell_type": "code",
   "execution_count": 5,
   "id": "4cbaed28",
   "metadata": {},
   "outputs": [],
   "source": [
    "# Generar combinación a decifrar aleatoria\n",
    "def random_sample(colors_list):\n",
    "    CPU_choice = random.sample(colors_list,4)\n",
    "    return CPU_choice\n",
    "\n",
    "CPU_Choice = random_sample(colors)"
   ]
  },
  {
   "cell_type": "code",
   "execution_count": 6,
   "id": "ff1f4f74",
   "metadata": {},
   "outputs": [],
   "source": []
  },
  {
   "cell_type": "code",
   "execution_count": null,
   "id": "10a3730e",
   "metadata": {},
   "outputs": [],
   "source": []
  },
  {
   "cell_type": "code",
   "execution_count": null,
   "id": "2d690f6d",
   "metadata": {},
   "outputs": [],
   "source": [
    "# Manejo de errores para input de usuario\n",
    "\n",
    "def input_handling(player_input):\n",
    "    try:\n",
    "        for item in player_input:\n",
    "            \n",
    "    \n",
    "    "
   ]
  },
  {
   "cell_type": "code",
   "execution_count": null,
   "id": "0b576d69",
   "metadata": {},
   "outputs": [],
   "source": [
    "turns = 0\n",
    "\n",
    "# while tries < 3:\n",
    "    \n",
    "#    player_input = input(\"Enter your choice. Available colors are 'Green', 'Red', 'Blue', 'White', 'Black', 'Pink'. Make sure to avoid duplictes.\")\n",
    "\n",
    "#    if len(player_input.split()) != len(set(player_input.split())):\n",
    "#        print(\"Please avoid duplicates and reinsert your choice.\")\n",
    "#        continue\n",
    "\n",
    "    \n",
    "tries = 0\n",
    "player_choice = []\n",
    "\n",
    "while tries < 1:\n",
    "    try:    \n",
    "        player_input = list(map(int, input\\\n",
    "                                (\"Enter your choice. Must be a number between 1 and 6 separated by blank space and no duplicates \")\\\n",
    "                                .split()))\n",
    "    # Check if integers where entered.    \n",
    "    except ValueError:\n",
    "        print(\"Please check: Please enter a list of numbers.\")\n",
    "        continue   \n",
    " \n",
    "    # Check if player entered 4 integers\n",
    "    if len(player_input) != 4:\n",
    "        print(\"Please check: Please enter 4 numbers.\")\n",
    "        continue\n",
    "    \n",
    "    # Check if player entered duplicates\n",
    "    if len(player_input) != len(set(player_input)):\n",
    "        print(\"Please avoid duplicates and re-insert your choice.\")\n",
    "        continue\n",
    "     \n",
    "    # Check if player entered integers from available list\n",
    "    error = 0\n",
    "    for x in player_input:\n",
    "        if x > 6 or x < 1:\n",
    "            error = 1\n",
    " \n",
    "    if error == 1:           \n",
    "        print(\"Please check: Please enter a number from the provided list.\")\n",
    "        continue   \n",
    " \n",
    "    # All filters check.\n",
    "    for i in range(4):\n",
    "        player_choice[i] = colors_code[i]  \n",
    " \n"
   ]
  },
  {
   "cell_type": "code",
   "execution_count": null,
   "id": "15c07ff5",
   "metadata": {},
   "outputs": [],
   "source": [
    "player_guess = ['Pink', 'Red', 'Blue', 'Black']\n",
    "\n",
    "guess_hints = []\n",
    "\n",
    "temp_CPU_choice = [x for x in CPU_choice]\n",
    "\n",
    "for color in player_guess:\n",
    "    if color in temp_CPU_choice:\n",
    "        if player_guess.index(color) == CPU_choice.index(color):\n",
    "            guess_hints.append('R')\n",
    "        else:\n",
    "            guess_hints.append('W')\n",
    "        temp_CPU_choice.remove(color)\n",
    "        \n",
    "print(CPU_choice)\n",
    "print(player_guess)\n",
    "print(guess_hints)"
   ]
  },
  {
   "cell_type": "code",
   "execution_count": null,
   "id": "e60122ea",
   "metadata": {},
   "outputs": [],
   "source": [
    "test_split = 'Blue Blue Yellow'\n",
    "\n",
    "splitted_test = test_split.split()\n",
    "print(splitted_test)\n",
    "print(set(splitted_test))"
   ]
  }
 ],
 "metadata": {
  "kernelspec": {
   "display_name": "Python 3",
   "language": "python",
   "name": "python3"
  },
  "language_info": {
   "codemirror_mode": {
    "name": "ipython",
    "version": 3
   },
   "file_extension": ".py",
   "mimetype": "text/x-python",
   "name": "python",
   "nbconvert_exporter": "python",
   "pygments_lexer": "ipython3",
   "version": "3.9.4"
  }
 },
 "nbformat": 4,
 "nbformat_minor": 5
}
