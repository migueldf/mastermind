{
 "cells": [
  {
   "cell_type": "code",
   "execution_count": 1,
   "id": "b8728638",
   "metadata": {},
   "outputs": [
    {
     "name": "stdout",
     "output_type": "stream",
     "text": [
      "['Blue', 'Black', 'Green', 'White']\n"
     ]
    }
   ],
   "source": [
    "import random\n",
    "import os\n",
    "\n",
    "# Lista de colores disponible\n",
    "colors = ['Green', 'Red', 'Blue', 'White', 'Black', 'Pink']\n",
    "colors_code = {1:'Green', 2:'Red', 3:'Blue', 4:'White', 5:'Black', 6:'Pink'}\n",
    "\n",
    "#Generar combinación a decifrar aleatoria\n",
    "CPU_choice = random.sample(colors,4)\n",
    "\n",
    "print(CPU_choice)"
   ]
  },
  {
   "cell_type": "code",
   "execution_count": null,
   "id": "2b560938",
   "metadata": {},
   "outputs": [
    {
     "name": "stdout",
     "output_type": "stream",
     "text": [
      "Enter your choice. Must be a number between 1 and 6 separated by blank space and no duplicates 1 1 1 1\n",
      "Please avoid duplicates and reinsert your choice.\n"
     ]
    }
   ],
   "source": [
    "turns = 0\n",
    "\n",
    "# while tries < 3:\n",
    "    \n",
    "#    player_input = input(\"Enter your choice. Available colors are 'Green', 'Red', 'Blue', 'White', 'Black', 'Pink'. Make sure to avoid duplictes.\")\n",
    "\n",
    "#    if len(player_input.split()) != len(set(player_input.split())):\n",
    "#        print(\"Please avoid duplicates and reinsert your choice.\")\n",
    "#        continue\n",
    "\n",
    "    \n",
    "tries = 0\n",
    "player_choice = []\n",
    "\n",
    "while tries < 1:\n",
    "    try:    \n",
    "        player_input = list(map(int, input(\"Enter your choice. Must be a number between 1 and 6 separated by blank space and no duplicates \").split()))\n",
    "    # Check if integers where entered.    \n",
    "    except ValueError:\n",
    "        print(\"Wrong choice! Please enter a list of numbers.\")\n",
    "        continue   \n",
    " \n",
    "    # Check if player entered 4 integers\n",
    "    if len(player_input) != 4:\n",
    "        print(\"Wrong choice! Please enter 4 numbers.\")\n",
    "        continue\n",
    "    \n",
    "    # Check if player entered duplicates\n",
    "    if len(player_input) != len(set(player_input)):\n",
    "        print(\"Please avoid duplicates and re-insert your choice.\")\n",
    "        continue\n",
    "     \n",
    "    # Check if player entered integers from available list\n",
    "    error = 0\n",
    "    for x in player_input:\n",
    "        if x > 6 or x < 1:\n",
    "            error = 1\n",
    " \n",
    "    if error == 1:           \n",
    "        print(\"Wrong choice! Please enter a number from the provided list.\")\n",
    "        continue   \n",
    " \n",
    "    # All filters check.\n",
    "    for i in range(4):\n",
    "        player_choice[i] = colors_code[i]  \n",
    " \n"
   ]
  },
  {
   "cell_type": "code",
   "execution_count": 174,
   "id": "bf86afc2",
   "metadata": {},
   "outputs": [
    {
     "name": "stdout",
     "output_type": "stream",
     "text": [
      "['Red', 'White', 'Black', 'Blue']\n",
      "['Red', 'Blue', 'Green', 'White']\n",
      "['R', 'W', 'W']\n"
     ]
    }
   ],
   "source": [
    "guess_hints = []\n",
    "\n",
    "temp_CPU_choice = [x for x in CPU_choice]\n",
    "\n",
    "for color in player_guess:\n",
    "    if color in temp_CPU_choice:\n",
    "        if player_guess.index(color) == CPU_choice.index(color):\n",
    "            guess_hints.append('R')\n",
    "        else:\n",
    "            guess_hints.append('W')\n",
    "        temp_CPU_choice.remove(color)\n",
    "        \n",
    "print(CPU_choice)\n",
    "print(player_guess)\n",
    "print(guess_hints)"
   ]
  },
  {
   "cell_type": "code",
   "execution_count": 177,
   "id": "3c5ed83f",
   "metadata": {},
   "outputs": [
    {
     "name": "stdout",
     "output_type": "stream",
     "text": [
      "['Blue', 'Blue', 'Yellow']\n",
      "{'Yellow', 'Blue'}\n"
     ]
    }
   ],
   "source": [
    "test_split = 'Blue Blue Yellow'\n",
    "\n",
    "splitted_test = test_split.split()\n",
    "print(splitted_test)\n",
    "print(set(splitted_test))"
   ]
  }
 ],
 "metadata": {
  "kernelspec": {
   "display_name": "Python 3",
   "language": "python",
   "name": "python3"
  },
  "language_info": {
   "codemirror_mode": {
    "name": "ipython",
    "version": 3
   },
   "file_extension": ".py",
   "mimetype": "text/x-python",
   "name": "python",
   "nbconvert_exporter": "python",
   "pygments_lexer": "ipython3",
   "version": "3.9.4"
  }
 },
 "nbformat": 4,
 "nbformat_minor": 5
}
