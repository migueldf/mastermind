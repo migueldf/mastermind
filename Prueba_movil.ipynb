{
 "cells": [
  {
   "cell_type": "code",
   "execution_count": 1,
   "id": "99461129",
   "metadata": {},
   "outputs": [],
   "source": [
    "import random\n",
    "\n",
    "# Lista de colores disponible\n",
    "colors = ['Green', 'Red', 'Blue', 'White', 'Black', 'Pink']\n",
    "colors_code = {1:'Green', 2:'Red', 3:'Blue', 4:'White', 5:'Black', 6:'Pink'}"
   ]
  },
  {
   "cell_type": "markdown",
   "id": "24db2669",
   "metadata": {},
   "source": [
    "## Funciones "
   ]
  },
  {
   "cell_type": "code",
   "execution_count": 13,
   "id": "b6c21853",
   "metadata": {},
   "outputs": [
    {
     "ename": "SyntaxError",
     "evalue": "invalid syntax (<ipython-input-13-b2f79975d03c>, line 13)",
     "output_type": "error",
     "traceback": [
      "\u001b[1;36m  File \u001b[1;32m\"<ipython-input-13-b2f79975d03c>\"\u001b[1;36m, line \u001b[1;32m13\u001b[0m\n\u001b[1;33m    hint = [\"W\" for item in player_input if item is in CPU_choice]\u001b[0m\n\u001b[1;37m                                                    ^\u001b[0m\n\u001b[1;31mSyntaxError\u001b[0m\u001b[1;31m:\u001b[0m invalid syntax\n"
     ]
    }
   ],
   "source": [
    "# Generar combinación a decifrar aleatoria\n",
    "def random_sample(colors_list):\n",
    "    CPU_choice = random.sample(colors_list,4)\n",
    "    return CPU_choice\n",
    "\n",
    "# Player Input a Colores\n",
    "def input_in_to_color(player_input, color_code):\n",
    "    player_input_color = [color_code[item] for item in player_input]\n",
    "    return player_input_color\n",
    "\n",
    "# Player Input Check\n",
    "def check_input(player_input, CPU_choice):\n",
    "    hint = [\"W\" for item in player_input if item in CPU_choice]\n",
    "    return hint\n",
    "\n",
    "    "
   ]
  },
  {
   "cell_type": "code",
   "execution_count": 9,
   "id": "ab00bcc4",
   "metadata": {},
   "outputs": [
    {
     "data": {
      "text/plain": [
       "['Black', 'Red', 'Blue', 'White']"
      ]
     },
     "execution_count": 9,
     "metadata": {},
     "output_type": "execute_result"
    }
   ],
   "source": [
    "CPU_choice = random_sample(colors)\n",
    "CPU_choice"
   ]
  },
  {
   "cell_type": "code",
   "execution_count": 10,
   "id": "ebc7c388",
   "metadata": {},
   "outputs": [
    {
     "name": "stdout",
     "output_type": "stream",
     "text": [
      "Enter 4 different digits between 1 and 6: 5 2 4 6\n"
     ]
    }
   ],
   "source": [
    "instructions = \"Enter 4 different digits between 1 and 6: \"\n",
    "colors_code = {1:'Green', 2:'Red', 3:'Blue', 4:'White', 5:'Black', 6:'Pink'}\n",
    "colors = ['Green', 'Red', 'Blue', 'White', 'Black', 'Pink']\n",
    "\n",
    "\n",
    "\n",
    "player_input = list(map(int, input (instructions).split() ))"
   ]
  },
  {
   "cell_type": "code",
   "execution_count": 11,
   "id": "a308aa46",
   "metadata": {},
   "outputs": [
    {
     "data": {
      "text/plain": [
       "[]"
      ]
     },
     "execution_count": 11,
     "metadata": {},
     "output_type": "execute_result"
    }
   ],
   "source": [
    "input_checker = check_input(player_input,CPU_choice)\n",
    "input_checker"
   ]
  },
  {
   "cell_type": "code",
   "execution_count": 12,
   "id": "7564c7c4",
   "metadata": {},
   "outputs": [
    {
     "data": {
      "text/plain": [
       "['Black', 'Red', 'Blue', 'White']"
      ]
     },
     "execution_count": 12,
     "metadata": {},
     "output_type": "execute_result"
    }
   ],
   "source": [
    "# print(CPU_choice)\n",
    "CPU_choice"
   ]
  },
  {
   "cell_type": "code",
   "execution_count": null,
   "id": "e9953237",
   "metadata": {},
   "outputs": [],
   "source": [
    "random_sample(colors)"
   ]
  },
  {
   "cell_type": "code",
   "execution_count": null,
   "id": "ff1f4f74",
   "metadata": {},
   "outputs": [],
   "source": [
    "# Board function\n",
    "\n",
    "def mastermind_board(colors_code):\n",
    "    \n",
    "    print(\"^\"*50)\n",
    "    print(\"Use this list to select your colors\")\n",
    "    print(colors_code)\n",
    "    print(\"^\"*50)\n",
    "    print(\"^\"*50)"
   ]
  },
  {
   "cell_type": "code",
   "execution_count": null,
   "id": "5beb8c53",
   "metadata": {},
   "outputs": [],
   "source": [
    "# Input message\n",
    "instructions = \"Enter 4 different digits between 1 and 6: \"\n",
    "instructions_length = \"Enter just 4 different digits between 1 and 6: \"\n",
    "turn = 0\n",
    "tries = 0\n",
    "player_choice = []\n",
    "\n",
    "\n",
    "while turn < 8:\n",
    "    \n",
    "    print(\"^\"*50)\n",
    "    print(\"MENTE MAESTRA\")\n",
    "    print(\"^\"*50)\n",
    "    print(\"^\"*50)\n",
    "    mastermind_board(colors_code)\n",
    "    \n",
    "    \n",
    "    try:\n",
    "        player_input = list(map(int, input (instructions).split() ))\n",
    "    except:\n",
    "        print(instructions)\n",
    "        continue\n",
    "        \n",
    "        # Check if player entered 4 integers\n",
    "    if len(player_input) != 4:\n",
    "        print(instructions)\n",
    "        continue\n",
    "    \n",
    "    # Check if player entered duplicates\n",
    "    if len(player_input) != len(set(player_input)):\n",
    "        print(\"Please avoid duplicates and re-insert your choice.\")\n",
    "        continue\n",
    "     \n",
    "    # Check if player entered integers from available list\n",
    "    error = 0\n",
    "    for x in player_input:\n",
    "        if x > 6 or x < 1:\n",
    "            error = 1\n",
    " \n",
    "    if error == 1:           \n",
    "        print(\"Please check: Please enter a number from the provided list.\")\n",
    "        continue   \n",
    " \n",
    "    # All filters check.\n",
    "    for i in range(4):\n",
    "        player_choice[i] = colors_code[i] \n",
    "\n"
   ]
  },
  {
   "cell_type": "code",
   "execution_count": null,
   "id": "4b1f5685",
   "metadata": {},
   "outputs": [],
   "source": []
  },
  {
   "cell_type": "code",
   "execution_count": null,
   "id": "c2d057ba",
   "metadata": {},
   "outputs": [],
   "source": [
    "# Manejo de errores para input de usuario\n",
    "\n",
    "\n",
    "\n"
   ]
  },
  {
   "cell_type": "code",
   "execution_count": null,
   "id": "0b576d69",
   "metadata": {},
   "outputs": [],
   "source": []
  },
  {
   "cell_type": "code",
   "execution_count": null,
   "id": "15c07ff5",
   "metadata": {},
   "outputs": [],
   "source": [
    "player_guess = ['Pink', 'Red', 'Blue', 'Black']\n",
    "\n",
    "guess_hints = []\n",
    "\n",
    "temp_CPU_choice = [x for x in CPU_choice]\n",
    "\n",
    "for color in player_guess:\n",
    "    if color in temp_CPU_choice:\n",
    "        if player_guess.index(color) == CPU_choice.index(color):\n",
    "            guess_hints.append('R')\n",
    "        else:\n",
    "            guess_hints.append('W')\n",
    "        temp_CPU_choice.remove(color)\n",
    "        \n",
    "print(CPU_choice)\n",
    "print(player_guess)\n",
    "print(guess_hints)"
   ]
  },
  {
   "cell_type": "code",
   "execution_count": null,
   "id": "e60122ea",
   "metadata": {},
   "outputs": [],
   "source": [
    "test_split = 'Blue Blue Yellow'\n",
    "\n",
    "splitted_test = test_split.split()\n",
    "print(splitted_test)\n",
    "print(set(splitted_test))"
   ]
  },
  {
   "cell_type": "code",
   "execution_count": null,
   "id": "3c8c86a8",
   "metadata": {},
   "outputs": [],
   "source": []
  }
 ],
 "metadata": {
  "kernelspec": {
   "display_name": "Python 3",
   "language": "python",
   "name": "python3"
  },
  "language_info": {
   "codemirror_mode": {
    "name": "ipython",
    "version": 3
   },
   "file_extension": ".py",
   "mimetype": "text/x-python",
   "name": "python",
   "nbconvert_exporter": "python",
   "pygments_lexer": "ipython3",
   "version": "3.9.4"
  }
 },
 "nbformat": 4,
 "nbformat_minor": 5
}
